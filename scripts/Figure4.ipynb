{
 "cells": [
  {
   "cell_type": "markdown",
   "id": "675c5460",
   "metadata": {},
   "source": [
    "# Set up Delta Siege"
   ]
  },
  {
   "cell_type": "markdown",
   "id": "cc2565ac",
   "metadata": {},
   "source": [
    "## Set up Config\r\n",
    "\r\n",
    "Allow for the specification of parameters such as:\r\n",
    "* Number of samples used in the different phases\r\n",
    "* Number of experiments to run\r\n",
    "* Level of paralellism"
   ]
  },
  {
   "cell_type": "code",
   "execution_count": null,
   "id": "2d5efa8d",
   "metadata": {},
   "outputs": [],
   "source": [
    "from deltasiege.utils import Config\r\n",
    "\r\n",
    "# Set up the configuration\r\n",
    "# n is the number of samples used in the different stages - 1.000.000 in each\r\n",
    "n = 1_000_000\r\n",
    "config = Config(\r\n",
    "    n_train=n, n_init=n, n_check=n, n_final=n, \r\n",
    "    n_experiments=10,\r\n",
    "    n_jobs=1,\r\n",
    ")"
   ]
  },
  {
   "cell_type": "markdown",
   "id": "b973875b",
   "metadata": {},
   "source": [
    "## Set up Search Space\r\n",
    "\r\n",
    "Allow for the specification of:\r\n",
    "* The range of DP-parameters which is searched\r\n",
    "* The inputs to the mechanism which is tested"
   ]
  },
  {
   "cell_type": "code",
   "execution_count": null,
   "id": "114f5ea6",
   "metadata": {},
   "outputs": [],
   "source": [
    "from deltasiege.ddsampler import SimpleSampler\r\n",
    "from deltasiege.mechanism import GaussOpacusMechanism as GaussOpacusMechanism\r\n",
    "\r\n",
    "# Basic parameters to the model\r\n",
    "epsilon_0, delta_0, sensitivity = 0.1, 0.1, 1.0\r\n",
    "\r\n",
    "# Use simple inputs\r\n",
    "input_pairs = [(0.0, 1.0)]\r\n",
    "\r\n",
    "# Set up sampler\r\n",
    "search_space = SimpleSampler(\r\n",
    "    GaussOpacusMechanism,\r\n",
    "    epsilon = (epsilon_0, epsilon_0),\r\n",
    "    delta = (delta_0, delta_0),\r\n",
    "    sensitivity = (sensitivity, sensitivity),\r\n",
    "    input_pairs = input_pairs\r\n",
    ")"
   ]
  },
  {
   "cell_type": "markdown",
   "id": "ae70849a",
   "metadata": {},
   "source": [
    "## Set up Classifier\n",
    "\n",
    "Use MultiLayerPerceptron classifier as was done in the paper.``."
   ]
  },
  {
   "cell_type": "code",
   "execution_count": null,
   "id": "aca0420d-c224-44fe-bb80-3b82af191790",
   "metadata": {},
   "outputs": [],
   "source": [
    "from deltasiege.classifiers.legacy.multi_layer_perceptron import MultiLayerPerceptron\n",
    "from deltasiege.classifiers.legacy.torch_optimizer_factory import AdamOptimizerFactory\n",
    "from deltasiege.classifiers import *\n",
    "\n",
    "sklearn_factory = MultiLayerPerceptron.get_factory(\n",
    "    optimizer_factory=AdamOptimizerFactory(learning_rate=0.1, step_size=500),\n",
    "    hidden_sizes=(),\n",
    "    n_test_batches=1,\n",
    "    normalize_input=False,\n",
    "    epochs=10, \n",
    "    regularization_weight=0.0001,\n",
    "    feature_transform=BitPatternFeatureTransformer(),\n",
    "    in_dimensions=64\n",
    ")"
   ]
  },
  {
   "cell_type": "markdown",
   "id": "3a63a68c",
   "metadata": {},
   "source": [
    "## Set up Delta Siege itself\r\n",
    "\r\n",
    "Combine the previous setup into the DeltaSiege class and set up the folder structure"
   ]
  },
  {
   "cell_type": "code",
   "execution_count": null,
   "id": "45bce769",
   "metadata": {},
   "outputs": [],
   "source": [
    "from deltasiege import DeltaSiege\r\n",
    "from deltasiege.logging import Logger\r\n",
    "\r\n",
    "# Use deltasiege_runs as base folder to store results\r\n",
    "# Can drop to pass a folder which makes all results to only be kept in memory\r\n",
    "from pathlib import Path\r\n",
    "!rm -rf deltasiege_runs\r\n",
    "base_folder = Path(\"deltasiege_runs\")\r\n",
    "base_folder.mkdir(exist_ok=True, parents=True)\r\n",
    "\r\n",
    "# Set up the search\r\n",
    "deltasiege = DeltaSiege(\r\n",
    "    config = config, \r\n",
    "    search_space = search_space, \r\n",
    "    classifier_factories = sklearn_factory,\r\n",
    "    logger = Logger(Logger.State.SILENT),  # Surpresses  all outputs. Can be VERBOSE, SILENT, DOWN. \r\n",
    "    base_folder = base_folder,\r\n",
    "    classifier_folder = base_folder / \"shared\", # Store classifier in seperate folder to share between runs\r\n",
    "    mechanism_folder= base_folder / \"shared\"    # Store mechanism in seperate folder to share between runs\r\n",
    ")"
   ]
  },
  {
   "cell_type": "markdown",
   "id": "145d73a5",
   "metadata": {},
   "source": [
    "# Run different variations of Delta SIege"
   ]
  },
  {
   "cell_type": "code",
   "execution_count": null,
   "id": "243e9473",
   "metadata": {},
   "outputs": [],
   "source": [
    "!rm -rf deltasiege_runs"
   ]
  },
  {
   "cell_type": "markdown",
   "id": "6b6a888b",
   "metadata": {},
   "source": [
    "## The full Implementation\r\n",
    "\r\n",
    "Vary both the epsilon and delta parameters while maintaning the rho-parameter constant.\r\n",
    "This allows for a more efficent search procedure which generally yields significently better results"
   ]
  },
  {
   "cell_type": "code",
   "execution_count": null,
   "id": "9df5f6a5",
   "metadata": {},
   "outputs": [],
   "source": [
    "from deltasiege.attack import WitnessOptimization, LinesearchEstimator\r\n",
    "import numpy as np\r\n",
    "\r\n",
    "# Use an estimator which tests over the specified epsilon and delta values\r\n",
    "n_steps = 1000\r\n",
    "estimator = LinesearchEstimator(\r\n",
    "    delta_steps = np.exp(np.linspace(np.log(1e-9), 0, num=n_steps)),  # Log uniform distirbution over [10^-9, 1]\r\n",
    "    epsilon_steps = np.linspace(0, 10, num = n_steps)                 # Uniform distribution over [0, 10]\r\n",
    ")\r\n",
    "\r\n",
    "# Make a factory corresponding to this search\r\n",
    "witness = WitnessOptimization.get_factory(estimator=estimator)\r\n",
    "\r\n",
    "# Run the search\r\n",
    "deltasiege_run = deltasiege.run(\"DeltaSiege\", witnesses_factories=witness)"
   ]
  },
  {
   "cell_type": "markdown",
   "id": "f25f66b9",
   "metadata": {},
   "source": [
    "## An Epsilon-Restricted Variant\r\n",
    "\r\n",
    "Run the search where violations can only be established by finding a witness where\r\n",
    "$\\epsilon_0 = \\epsilon_1$ and $\\delta_0 < \\delta_1$"
   ]
  },
  {
   "cell_type": "code",
   "execution_count": null,
   "id": "e62f44c4",
   "metadata": {},
   "outputs": [],
   "source": [
    "from deltasiege.attack import WitnessOptimization, LinesearchEstimator\r\n",
    "import numpy as np\r\n",
    "\r\n",
    "# Use an estimator which tests can only use epsilon = epsilon_0\r\n",
    "estimator = LinesearchEstimator(epsilon_steps=np.array([epsilon_0]))\r\n",
    "\r\n",
    "# Make a factory corresponding to this search\r\n",
    "witness = WitnessOptimization.get_factory(estimator=estimator)\r\n",
    "epsilon_fixed_run = deltasiege.run(\"FixedEpsilon\", witnesses_factories=witness, thresh_confidence=0)"
   ]
  },
  {
   "cell_type": "markdown",
   "id": "08ac91e5",
   "metadata": {},
   "source": [
    "## An Delta-Restricted Variant\r\n",
    "\r\n",
    "Run the search where violations can only be established by finding a witness where\r\n",
    "$\\epsilon_0 < \\epsilon_1$ and $\\delta_0 = \\delta_1$"
   ]
  },
  {
   "cell_type": "code",
   "execution_count": null,
   "id": "e68d5589",
   "metadata": {},
   "outputs": [],
   "source": [
    "from deltasiege.attack import WitnessOptimization, LinesearchEstimator\r\n",
    "import numpy as np\r\n",
    "\r\n",
    "# Use an estimator which tests can only use delta = delta_0\r\n",
    "estimator = LinesearchEstimator(delta_steps=np.array([delta_0]))\r\n",
    "\r\n",
    "# Make a factory corresponding to this search\r\n",
    "witness = WitnessOptimization.get_factory(estimator=estimator)\r\n",
    "delta_fixed_run = deltasiege.run(\"FixedDelta\", witnesses_factories=witness)"
   ]
  },
  {
   "cell_type": "markdown",
   "id": "610e15a7",
   "metadata": {},
   "source": [
    "## Create Figure 4 in the Paper\r\n",
    "\r\n",
    "Combine the results of the previous results into a plot for vizualization"
   ]
  },
  {
   "cell_type": "code",
   "execution_count": null,
   "id": "8fe4e75d-45c2-4687-b7b1-bb99882f7346",
   "metadata": {},
   "outputs": [],
   "source": [
    "from deltasiege.utils.plot_multiple_trials import plot_all_trials\n",
    "\n",
    "# Plot all the results\n",
    "# Can swap 90 degrees by changing x_is_delta\n",
    "x_is_delta = False\n",
    "fig, ax = plot_all_trials(\n",
    "    (deltasiege_run, \"DeltaSiege\", \"o\", \"blue\"),\n",
    "    (epsilon_fixed_run, \"FixedDelta\", \"^\", \"orange\"),\n",
    "    (delta_fixed_run, \"FixedEpsilon\", \"x\", \"purple\"),\n",
    "    x_is_delta=x_is_delta,\n",
    ")\n",
    "\n",
    "# Add ticks and labels\n",
    "if x_is_delta:\n",
    "    ax.set_xticks([delta_0]) \n",
    "    ax.set_xticklabels([\"$\\\\delta_0$\"], fontsize=20)\n",
    "    ax.set_yticks([epsilon_0]) \n",
    "    ax.set_yticklabels([\"$\\\\epsilon_0$\"], fontsize=20)\n",
    "else:\n",
    "    ax.set_xticks([epsilon_0]) \n",
    "    ax.set_xticklabels([\"$\\\\epsilon_0$\"], fontsize=20)\n",
    "    ax.set_yticks([delta_0]) \n",
    "    ax.set_yticklabels([\"$\\\\delta_0$\"], fontsize=20)\n",
    "\n",
    "# Add legend and plot\n",
    "fig.legend()\n",
    "fig.show()"
   ]
  },
  {
   "cell_type": "markdown",
   "id": "d2d0d8a5",
   "metadata": {},
   "source": [
    "## A DP-Sniper Variant\r\n",
    "\r\n",
    "Run the search by the method of DP-Sniper, where violations can only be established by finding a witness where\r\n",
    "$\\epsilon_0 < \\epsilon_1$ and $\\delta_0 = \\delta_1$"
   ]
  },
  {
   "cell_type": "code",
   "execution_count": null,
   "id": "dbfb0dee",
   "metadata": {},
   "outputs": [],
   "source": [
    "from deltasiege.attack import WitnessDPSniper, LinesearchEstimator\r\n",
    "import numpy as np\r\n",
    "\r\n",
    "# DP-Sniper seeks to establish a witness by maximizing epsilon while keeping delta fixed\r\n",
    "estimator = LinesearchEstimator(delta_steps=np.array([delta_0]))\r\n",
    "\r\n",
    "# Make a factory corresponding to this search\r\n",
    "witness = WitnessDPSniper.get_factory(estimator=estimator, fixed_delta=delta_0)\r\n",
    "dpsniper_run = deltasiege.run(\"DPSniper\", witnesses_factories=witness)"
   ]
  },
  {
   "cell_type": "markdown",
   "id": "6b98bdfa",
   "metadata": {},
   "source": [
    "## A DP-Opt Variant\r\n",
    "\r\n",
    "Run the search by the method of DP-Opt, where violations can only be established by finding a witness where\r\n",
    "$\\epsilon_0 < \\epsilon_1$ and $\\delta_0 = \\delta_1$"
   ]
  },
  {
   "cell_type": "code",
   "execution_count": null,
   "id": "196d88b9",
   "metadata": {},
   "outputs": [],
   "source": [
    "from deltasiege.attack import WitnessDPOpt, LinesearchEstimator\r\n",
    "import numpy as np\r\n",
    "\r\n",
    "# DP-Opt seeks to establish a witness by maximizing epsilon while keeping delta fixed\r\n",
    "estimator = LinesearchEstimator(delta_steps=np.array([delta_0]))\r\n",
    "\r\n",
    "# Make a factory corresponding to this search\r\n",
    "witness = WitnessDPOpt.get_factory(estimator=estimator, fixed_delta=delta_0)\r\n",
    "dpopt_run = deltasiege.run(\"DPOpt\", witnesses_factories=witness)"
   ]
  },
  {
   "cell_type": "markdown",
   "id": "0eb59442",
   "metadata": {},
   "source": [
    "## A dynamic Variant\r\n",
    "\r\n",
    "Use the Dvoretzky–Kiefer–Wolfowitz inequality, allow to only selecting the ```t``` and ```q``` parameters upon testing."
   ]
  },
  {
   "cell_type": "code",
   "execution_count": null,
   "id": "599609ec",
   "metadata": {},
   "outputs": [],
   "source": [
    "from deltasiege.attack import WitnessDynamic, LinesearchEstimator\r\n",
    "import numpy as np\r\n",
    "\r\n",
    "# Use an estimator which tests over the specified epsilon and delta values\r\n",
    "n_steps = 1_000\r\n",
    "estimator = LinesearchEstimator(\r\n",
    "    delta_steps = np.exp(np.linspace(np.log(1e-9), 0, num=n_steps)),  # Log uniform distirbution over [10^-9, 1]\r\n",
    "    epsilon_steps = np.linspace(0, 10, num = n_steps)                 # Uniform distribution over [0, 10]\r\n",
    ")\r\n",
    "\r\n",
    "\r\n",
    "# Make a factory corresponding to this search\r\n",
    "witness = WitnessDynamic.get_factory(estimator=estimator, confidence_dwk=1, quantiles = np.linspace(0.75, 1, 1_000))\r\n",
    "dynamic_run = deltasiege.run(\"Dynamic\", witnesses_factories=witness)"
   ]
  },
  {
   "cell_type": "markdown",
   "id": "9043bd68",
   "metadata": {},
   "source": [
    "## Plot all Results\r\n",
    "\r\n",
    "Combine all five runs into a single plot. The DP-Opt variation, is not able to dect any violation which can be plotted for this experiment; when selecting the threshold parameter, the resulting $\\epsilon_1$ is $-\\infty$"
   ]
  },
  {
   "cell_type": "code",
   "execution_count": null,
   "id": "f9df3119-c8b2-4ddc-8bc4-1ed6b7343784",
   "metadata": {},
   "outputs": [],
   "source": [
    "from deltasiege.utils.plot_multiple_trials import plot_all_trials\n",
    "\n",
    "x_is_delta = False\n",
    "fig, ax = plot_all_trials(\n",
    "    (deltasiege_run, \"DeltaSiege\", \"o\", \"blue\"),\n",
    "    (epsilon_fixed_run, \"Fixed $\\\\delta$\", \"^\", \"orange\"),\n",
    "    (delta_fixed_run, \"Fixed $\\\\epsilon$\", \"x\", \"purple\"),\n",
    "    (dpsniper_run, \"DP-Sniper\", \"s\", \"cyan\"),\n",
    "    (dpopt_run, \"DP-Opt\", \"v\", \"olive\"),\n",
    "    (dynamic_run, \"Dynamic\", \"+\", \"yellow\"),\n",
    "    x_is_delta=x_is_delta,\n",
    ")\n",
    "\n",
    "if x_is_delta:\n",
    "    ax.set_xticks([delta_0]) \n",
    "    ax.set_xticklabels([\"$\\\\delta_0$\"], fontsize=20)\n",
    "    ax.set_yticks([epsilon_0]) \n",
    "    ax.set_yticklabels([\"$\\\\epsilon_0$\"], fontsize=20)\n",
    "else:\n",
    "    ax.set_xticks([epsilon_0]) \n",
    "    ax.set_xticklabels([\"$\\\\epsilon_0$\"], fontsize=20)\n",
    "    ax.set_yticks([delta_0]) \n",
    "    ax.set_yticklabels([\"$\\\\delta_0$\"], fontsize=20)\n",
    "\n",
    "# Add legend and plot\n",
    "fig.legend()\n",
    "fig.show()"
   ]
  },
  {
   "cell_type": "code",
   "execution_count": null,
   "id": "4012b234-c23b-442b-ad8d-8300c9afaa0a",
   "metadata": {},
   "outputs": [],
   "source": []
  }
 ],
 "metadata": {
  "kernelspec": {
   "display_name": "Python 3 (ipykernel)",
   "language": "python",
   "name": "python3"
  },
  "language_info": {
   "codemirror_mode": {
    "name": "ipython",
    "version": 3
   },
   "file_extension": ".py",
   "mimetype": "text/x-python",
   "name": "python",
   "nbconvert_exporter": "python",
   "pygments_lexer": "ipython3",
   "version": "3.8.0"
  }
 },
 "nbformat": 4,
 "nbformat_minor": 5
}
