{
 "cells": [
  {
   "cell_type": "markdown",
   "source": [
    "# Set Up and Run Delta Siege"
   ],
   "metadata": {}
  },
  {
   "cell_type": "markdown",
   "source": [
    "## Set up Mechanism and Search Space\r\n",
    "\r\n",
    "Allow for the specificationf: o\r\n",
    "* An implementation of a (floating point-insecure) Gaussian noise adding mechanismf:\r\n",
    "* The range of DP-parameters which is searched\r\n",
    "* The inputs to the mechanism which is tested"
   ],
   "metadata": {}
  },
  {
   "cell_type": "markdown",
   "source": [
    "### A Floating Point Insecure Gaussian Mechanism"
   ],
   "metadata": {}
  },
  {
   "cell_type": "code",
   "execution_count": 1,
   "source": [
    "import numpy as np\n",
    "from deltasiege.mechanism import Mechanism\n",
    "\n",
    "class GaussianMechanismExample(Mechanism):\n",
    "    \"\"\"\n",
    "    An example (floating point insecure) implementation of the Gaussian mechanism\n",
    "    as given in https://www.nowpublishers.com/article/Details/TCS-042\n",
    "    \"\"\"\n",
    "    \n",
    "    def _init_helper(self, epsilon: float, delta : float, sensitivity : float) -> None:\n",
    "        \"\"\"\n",
    "        Initialization helper. Do not overwrite __init__\n",
    "        \"\"\"\n",
    "        self.sensitivity = sensitivity\n",
    "        self.std = self.guarantee_(epsilon, delta)\n",
    "        super()._init_helper(epsilon, delta)\n",
    "    \n",
    "    def __call__(self, x : float, n: int) -> np.ndarray:\n",
    "        \"\"\"\n",
    "        The specific mechanism - Gaussian noise is added to x\n",
    "        n samples are drawn.\n",
    "        \"\"\"\n",
    "        std = self.guarantee_(self.epsilon, self.delta)\n",
    "        return x + np.random.normal(0, std, (n,))\n",
    "    \n",
    "    def constraint(self, epsilon : float, delta : float) -> bool:\n",
    "        \"\"\"\n",
    "        Returns if epsilon and delta are valid DP parameters for the mechanism\n",
    "        For this mechanism it must hold that 0 <= epsilon, delta <= 1\n",
    "        \"\"\"\n",
    "        return 0 <= epsilon <= 1 and 0 <= delta <= 1\n",
    "        \n",
    "    def guarantee_(self, epsilon : float, delta : float) -> float:\n",
    "        \"\"\"\n",
    "        A mapping of (epsilon, delta) to a parameter rho, which uniquely specifies the privacy level\n",
    "        Is non-increasing in both epsilon and delta.\n",
    "        For the classical Gaussian mechanism, one possible parameter is the standard deviation.\n",
    "        \"\"\"\n",
    "        if epsilon <= 0 or delta <= 0:\n",
    "            return float(\"inf\")\n",
    "\n",
    "        return np.sqrt(2 * np.log(1.25 / delta) * np.square(self.sensitivity / epsilon))\n",
    "    \n",
    "    def perturb_delta(self, new_delta : float) -> float:\n",
    "        \"\"\"\n",
    "        Returns a epsilon value such that self.guarantee(epsilon, new_delta) == self.guarantee(self.epsilon, self.delta)\n",
    "        \"\"\"\n",
    "\n",
    "        # Can't have a new delta\n",
    "        if new_delta <= 0:\n",
    "            return None\n",
    "\n",
    "        # Use the explicit formula\n",
    "        new_epsilon = self.sensitivity / self.std * np.sqrt(2 * np.log(1.25 / new_delta))\n",
    "\n",
    "        # Epsilon values are only valid up to 1\n",
    "        if new_epsilon > 1.0:\n",
    "            return None\n",
    "        else:\n",
    "            return new_epsilon\n",
    "\n",
    "    def perturb_epsilon(self, new_epsilon : float) -> float:\n",
    "        \"\"\"\n",
    "        Returns a delta value such that self.guarantee(epsilon, new_delta) == self.guarantee(self.epsilon, self.delta)\n",
    "        \"\"\"\n",
    "\n",
    "        # Can't have a new delta\n",
    "        if new_epsilon <= 0 or new_epsilon > 1:\n",
    "            return None\n",
    "\n",
    "        # Use the explicit formula\n",
    "        new_delta = np.exp(-0.5 * np.square(new_epsilon * self.std / self.sensitivity)) * 1.25\n",
    "\n",
    "        return new_delta"
   ],
   "outputs": [],
   "metadata": {}
  },
  {
   "cell_type": "markdown",
   "source": [
    "# DP Parameters and Search Space"
   ],
   "metadata": {}
  },
  {
   "cell_type": "code",
   "execution_count": 2,
   "source": [
    "from deltasiege.ddsampler import SimpleSampler\n",
    "\n",
    "# Basic parameters to the model - these are the hyperparameters which define the method\n",
    "# We optimize over the hyperparameters to find the largest violation\n",
    "# Each hyperparameter is given as a range (low, high) and we use Optuna to optimize over them\n",
    "epsilon_0, delta_0 = 0.1, 0.1\n",
    "epsilon_range = (epsilon_0, epsilon_0)\n",
    "delta_range = (delta_0, delta_0)\n",
    "sensitivity_range = (1.0,  1.0)\n",
    "\n",
    "# Input pairs to the mechanism (a, a') are also treated as hyper-parameters and must be given as a list of pairs\n",
    "input_pairs = [(0.0, 1.0)]\n",
    "\n",
    "\n",
    "# Set up sampler\n",
    "search_space = SimpleSampler(\n",
    "    GaussianMechanismExample,\n",
    "    epsilon=epsilon_range,\n",
    "    delta=delta_range,\n",
    "    sensitivity=sensitivity_range,\n",
    "    input_pairs=input_pairs\n",
    ")"
   ],
   "outputs": [],
   "metadata": {}
  },
  {
   "cell_type": "markdown",
   "source": [
    "## Set up Classifier\r\n",
    "This is in principle the learning method LearnP from the paper which approximates p(a | b). It can bese any classifier which is compatible with Sklearn's classifier inteface, \r\n",
    "i.e. it must have the methods ```fit``` and ```predict_proba```."
   ],
   "metadata": {}
  },
  {
   "cell_type": "code",
   "execution_count": 3,
   "source": [
    "from sklearn.linear_model import LogisticRegression\n",
    "from sklearn.pipeline import Pipeline\n",
    "\n",
    "from deltasiege.classifiers import SklearnClassifier, BitPatternFeatureTransformer\n",
    "from deltasiege.attack import WitnessOptimization, LinesearchEstimator\n",
    "\n",
    "# Make a simple pipeline\n",
    "# First transform input to its bit representation, then apply logistic regresslization\n",
    "sklearn_factory = SklearnClassifier.get_factory(\n",
    "    classifier=Pipeline([(\"bit_transformer\", BitPatternFeatureTransformer()), (\"log_reg\", LogisticRegression())])\n",
    ")\n",
    "\n",
    "# Set up the witness type\n",
    "witness_factory = WitnessOptimization.get_factory(estimator=LinesearchEstimator())"
   ],
   "outputs": [],
   "metadata": {}
  },
  {
   "cell_type": "markdown",
   "source": [
    "## Set up and run Delta Siege itself\r\n",
    "\r\n",
    "Combine the previous setup into the DeltaSiege class and set up the folder structure"
   ],
   "metadata": {}
  },
  {
   "cell_type": "code",
   "execution_count": 4,
   "source": [
    "from pathlib import Path\r\n",
    "\r\n",
    "from deltasiege import DeltaSiege\r\n",
    "from deltasiege.utils import Config\r\n",
    "from deltasiege.logging import Logger\r\n",
    "\r\n",
    "# Use deltasiege_runs as base folder to store results\r\n",
    "# Can drop to pass a folder which makes all results to only be kept in memory\r\n",
    "!rm -rf deltasiege_runs\r\n",
    "base_folder = Path(\"deltasiege_runs\")\r\n",
    "base_folder.mkdir(exist_ok=True, parents=True)\r\n",
    "\r\n",
    "# See the definition for a detailed overview of config parameters\r\n",
    "n = 1_000_000\r\n",
    "config = Config(\r\n",
    "    n_train=n, n_init=n, \r\n",
    "    n_check=n, n_final=n,\r\n",
    "    batch_size=n // 10,\r\n",
    "    n_jobs=1,\r\n",
    ")\r\n",
    "\r\n",
    "# Set up the search\r\n",
    "deltasiege = DeltaSiege(\r\n",
    "    config = config, \r\n",
    "    search_space = search_space, \r\n",
    "    classifier_factories = sklearn_factory,\r\n",
    "    logger = Logger(Logger.State.SILENT),  # Surpresses  all outputs. Can be VERBOSE, SILENT, DOWN\r\n",
    "    base_folder = base_folder\r\n",
    ")\r\n",
    "\r\n",
    "deltasiege_run = deltasiege.run(\"DeltaSiege\", witnesses_factories=witness_factory)"
   ],
   "outputs": [
    {
     "output_type": "stream",
     "name": "stderr",
     "text": [
      "\u001b[32m[I 2023-10-25 00:45:46,414]\u001b[0m A new study created in memory with name: no-name-0c173175-a925-4132-8342-3da09211ff7c\u001b[0m\n",
      "\u001b[32m[I 2023-10-25 00:46:01,864]\u001b[0m Trial 0 finished with value: 0.1212326022437514 and parameters: {'input_pair': 0, 'epsilon': 0.1, 'delta': 0.1, 'sensitivity': 1.0}. Best is trial 0 with value: 0.1212326022437514.\u001b[0m\n",
      "\u001b[32m[I 2023-10-25 00:46:01,915]\u001b[0m A new study created in memory with name: no-name-e07c3d01-aaaa-4633-92ed-d312bad94e64\u001b[0m\n",
      "\u001b[32m[I 2023-10-25 00:46:16,770]\u001b[0m Trial 0 finished with value: 0.43397657238920295 and parameters: {'input_pair': 0, 'epsilon': 0.1, 'delta': 0.1, 'sensitivity': 1.0}. Best is trial 0 with value: 0.43397657238920295.\u001b[0m\n",
      "\u001b[32m[I 2023-10-25 00:46:16,818]\u001b[0m A new study created in memory with name: no-name-a3fc8123-0659-46a2-b627-b5321a71b340\u001b[0m\n",
      "\u001b[32m[I 2023-10-25 00:46:31,673]\u001b[0m Trial 0 finished with value: 1.3921116516366139 and parameters: {'input_pair': 0, 'epsilon': 0.1, 'delta': 0.1, 'sensitivity': 1.0}. Best is trial 0 with value: 1.3921116516366139.\u001b[0m\n",
      "\u001b[32m[I 2023-10-25 00:46:31,724]\u001b[0m A new study created in memory with name: no-name-55207f0b-86a6-48f7-8393-fd0edb6c1bf7\u001b[0m\n",
      "\u001b[32m[I 2023-10-25 00:46:46,444]\u001b[0m Trial 0 finished with value: 0.1425960942464718 and parameters: {'input_pair': 0, 'epsilon': 0.1, 'delta': 0.1, 'sensitivity': 1.0}. Best is trial 0 with value: 0.1425960942464718.\u001b[0m\n"
     ]
    }
   ],
   "metadata": {}
  },
  {
   "cell_type": "markdown",
   "source": [
    "## Plot the Results\r\n",
    "Visualize the found violations in (epsilon, delta)-spaceon"
   ],
   "metadata": {}
  },
  {
   "cell_type": "code",
   "execution_count": 5,
   "source": [
    "from deltasiege.utils.plot_multiple_trials import plot_all_trials\r\n",
    "\r\n",
    "# Plot all the results\r\n",
    "# Can swap 90 degrees by changing x_is_delta\r\n",
    "x_is_delta = True\r\n",
    "fig, ax = plot_all_trials(\r\n",
    "    (deltasiege_run, \"DeltaSiege\", \"o\", \"blue\"),\r\n",
    "    x_is_delta=x_is_delta,\r\n",
    ")\r\n",
    "\r\n",
    "# Add ticks and labels\r\n",
    "if x_is_delta:\r\n",
    "    ax.set_xticks([delta_0]) \r\n",
    "    ax.set_xticklabels([\"$\\\\delta_0$\"], fontsize=20)\r\n",
    "    ax.set_yticks([epsilon_0]) \r\n",
    "    ax.set_yticklabels([\"$\\\\epsilon_0$\"], fontsize=20)\r\n",
    "else:\r\n",
    "    ax.set_xticks([epsilon_0]) \r\n",
    "    ax.set_xticklabels([\"$\\\\epsilon_0$\"], fontsize=20)\r\n",
    "    ax.set_yticks([delta_0]) \r\n",
    "    ax.set_yticklabels([\"$\\\\delta_0$\"], fontsize=20)\r\n",
    "\r\n",
    "# Add legend and plot\r\n",
    "fig.legend()\r\n",
    "fig.show()"
   ],
   "outputs": [
    {
     "output_type": "display_data",
     "data": {
      "image/png": "[encoded data removed]",
      "text/plain": [
       "<Figure size 1000x1000 with 1 Axes>"
      ]
     },
     "metadata": {}
    }
   ],
   "metadata": {}
  },
  {
   "cell_type": "markdown",
   "source": [
    "## Anylize the Weights\r\n",
    "\r\n",
    "Run the search by the method of DP-Sniper, where violations can only be established by finding a witness where\r\n",
    "$\\epsilon_0 < \\epsilon_1$ and $\\delta_0 = \\delta_1$"
   ],
   "metadata": {}
  },
  {
   "cell_type": "code",
   "execution_count": 11,
   "source": [
    "for experiment in deltasiege_run.experiments:\n",
    "    for trial in experiment.trials:\n",
    "\n",
    "        # Extract logistic regression\n",
    "        trained_clf = trial.witnesses[trial.best_witness_idx].classifier.classifier\n",
    "        log_reg = trained_clf.steps[1][1]\n",
    "\n",
    "        # Get weights and intercept\n",
    "        W, b = log_reg.coef_ , log_reg.intercept_\n",
    "        \n",
    "        # Analyze the weights ....witness)"
   ],
   "outputs": [],
   "metadata": {}
  },
  {
   "cell_type": "code",
   "execution_count": null,
   "source": [],
   "outputs": [],
   "metadata": {}
  }
 ],
 "metadata": {
  "kernelspec": {
   "display_name": "Python 3 (ipykernel)",
   "language": "python",
   "name": "python3"
  },
  "language_info": {
   "codemirror_mode": {
    "name": "ipython",
    "version": 3
   },
   "file_extension": ".py",
   "mimetype": "text/x-python",
   "name": "python",
   "nbconvert_exporter": "python",
   "pygments_lexer": "ipython3",
   "version": "3.8.0"
  }
 },
 "nbformat": 4,
 "nbformat_minor": 5
}